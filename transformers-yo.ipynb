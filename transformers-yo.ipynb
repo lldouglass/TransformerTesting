{
 "cells": [
  {
   "cell_type": "code",
   "execution_count": 22,
   "metadata": {},
   "outputs": [
    {
     "name": "stderr",
     "output_type": "stream",
     "text": [
      "c:\\Users\\logan\\Transformers\\.venv\\Lib\\site-packages\\tqdm\\auto.py:21: TqdmWarning: IProgress not found. Please update jupyter and ipywidgets. See https://ipywidgets.readthedocs.io/en/stable/user_install.html\n",
      "  from .autonotebook import tqdm as notebook_tqdm\n"
     ]
    }
   ],
   "source": [
    "from dataclasses import dataclass\n",
    "\n",
    "import torch\n",
    "import torch.nn as nn\n",
    "import math \n",
    "import torch.nn.functional as F\n",
    "from dataclasses import dataclass\n",
    "from jaxtyping import Float, Int\n",
    "import matplotlib.pyplot as plt\n",
    "import torch.optim as optim\n",
    "from torch.utils.data import Dataset, DataLoader\n",
    "from get_books import get_gutenberg_book, get_many_books\n",
    "from transformers import AutoTokenizer  # for tokenization\n",
    "from torch.nn import GELU  "
   ]
  },
  {
   "cell_type": "code",
   "execution_count": 8,
   "metadata": {},
   "outputs": [
    {
     "data": {
      "image/png": "[encoded data removed]",
      "text/plain": [
       "<Figure size 640x480 with 2 Axes>"
      ]
     },
     "metadata": {},
     "output_type": "display_data"
    }
   ],
   "source": [
    "# def create_mask(n_context: int) -> Float[torch.Tensor, \"n_context n_context\"]:\n",
    "def create_mask(n_context: int) -> torch.Tensor:\n",
    "    mask = torch.zeros(n_context, n_context)\n",
    "    indices = torch.triu_indices(n_context, n_context, offset=1)\n",
    "    mask[indices[0], indices[1]] = float('-inf')\n",
    "    \n",
    "    return mask\n",
    "\n",
    "\n",
    "\n",
    "# Create a random 5x5 matrix\n",
    "M = create_mask(100)\n",
    "\n",
    "# Convert to NumPy for visualization\n",
    "M_np = M.numpy()\n",
    "\n",
    "# Plot the matrix\n",
    "plt.imshow(M_np, cmap='viridis', interpolation='nearest')\n",
    "plt.colorbar(label=\"Value\")  # Add a color bar\n",
    "plt.title(\"Torch Matrix Visualization\")\n",
    "plt.show()"
   ]
  },
  {
   "cell_type": "code",
   "execution_count": 9,
   "metadata": {},
   "outputs": [],
   "source": [
    "@dataclass\n",
    "class GPTConfig:\n",
    "\td_vocab: int = 10_000\n",
    "\td_model: int = 128\n",
    "\td_mlp: int = 512\n",
    "\tn_heads: int = 4\n",
    "\td_head: int = 32\n",
    "\tn_layers: int = 6\n",
    "\tact_fn: type[nn.Module] = nn.ReLU\n",
    "\n",
    "# note: the residual stream is `n_context` by `d_model`\n",
    "\n",
    "# this is the row-wise (last dimension) softmax of x\n",
    "# F.softmax(x, dim=-1)\n",
    "\n",
    "class AttentionHead(nn.Module):\n",
    "\n",
    "\tdef __init__(self, cfg: GPTConfig):\n",
    "\t\tsuper().__init__()\n",
    "\t\tself.W_Q = nn.Linear(cfg.d_model, cfg.d_head)\n",
    "\t\tself.W_K = nn.Linear(cfg.d_model, cfg.d_head)\n",
    "\t\tself.W_O = nn.Linear(cfg.d_head, cfg.d_model) # fix this later\n",
    "\t\tself.W_V = nn.Linear(cfg.d_model, cfg.d_head)\n",
    "\t\t\n",
    "\n",
    "\t\t\n",
    "\n",
    "\tdef forward(self, x: Int[torch.Tensor, \"n_context d_model\"]) -> Float[torch.Tensor, \"n_context d_model\"]:\n",
    "\t\t#hidden = self.embedding(x)\n",
    "\t\t# n_context = x.size(0)\n",
    "\t\t# Q = x @ self.W_Q\n",
    "\t\t# K = x @ self.W_K\n",
    "\t\t# V = x @ self.W_V\n",
    "\t\t# scores = Q @ K.T\n",
    "\t\t# scores = scores / math.sqrt(Q.size(-1))\n",
    "\t\t# M = create_mask(n_context).to(x.device)\n",
    "\t\t# scores = scores + M\n",
    "\t\t# A = F.softmax(scores, dim=-1)\n",
    "\t\t# head_output = A @ V\n",
    "\t\t# return head_output @ self.W_O\n",
    "\n",
    "\t\tM = create_mask(x.size(0))\n",
    "  \n",
    "\t\treturn F.softmax(self.W_Q(x) @ self.W_K(x).T + M) @ self.W_O(self.W_V(x))\n",
    "\t\t\n",
    "\n",
    "\n",
    "class MultiHeadedAttention(nn.Module):\n",
    "\n",
    "\tdef __init__(self, cfg: GPTConfig):\n",
    "\t\tsuper().__init__()\n",
    "\t\tself.cfg = cfg\n",
    "\t\t#List of attention heads\n",
    "\t\tself.heads = nn.ModuleList([AttentionHead(cfg) for i in range(cfg.n_heads)])\n",
    "\n",
    "\t#def forward(x: Int[torch.Tensor, \"n_context d_model\"]) -> Float[torch.Tensor, \"n_context d_model\"]:\n",
    "\tdef forward(self, x: Int[torch.Tensor, \"n_context d_model\"]) -> Float[torch.Tensor, \"n_context d_model\"]:\n",
    "\t\t\n",
    "\t\tfor head in range(self.cfg.n_heads):\n",
    "\t\t\tx += self.heads[head].forward(x)\n",
    "\t\t\n",
    "\t\treturn x\n",
    "        #Each head returns output of shape [n_context, d_head]\n",
    "        #Concatenate outputs along the feature dimension: [n_context, n_heads * d_head]\n",
    "        #Project concatenated outputs back to d_model: [n_context, d_model]\n",
    "\n",
    "\n",
    "\n",
    "\n",
    "class MLP(nn.Module):\n",
    "\n",
    "\tdef __init__(self, cfg: GPTConfig):\n",
    "\t\tsuper().__init__()\n",
    "\t\tself.cfg = cfg\n",
    "\t\tself.Hidden = nn.Linear(cfg.d_model, cfg.d_mlp)\n",
    "\t\tself.Output = nn.Linear(cfg.d_mlp, cfg.d_model)\n",
    "\t\t\n",
    "\tdef forward(self, x: torch.Tensor) -> torch.Tensor:\n",
    "\t\treturn self.Output(self.Hidden(x))\n",
    "\n",
    "\n",
    "\n",
    "class Transformer(nn.Module):\n",
    "\n",
    "\tdef __init__(self, cfg: GPTConfig):\n",
    "\t\tsuper().__init__()\n",
    "\t\tself.cfg = cfg\n",
    "  \n",
    "\t\tself.embedding = nn.Embedding(cfg.d_vocab, cfg.d_model)\n",
    "\t\tself.unembedding = nn.Linear(cfg.d_model, cfg.d_vocab)\t\n",
    "\n",
    "\t\tself.layers = nn.ModuleList(\n",
    "\t\t\tnn.ModuleDict({\n",
    "\t\t\t\t'attn': MultiHeadedAttention(cfg),\n",
    "\t\t\t\t'mlp': MLP(cfg)\n",
    "\t\t\t}) for _ in range(cfg.n_layers)\n",
    "\t\t)\n",
    "  \t\t\n",
    "\t\t\n",
    "\t\t# uses `MultiHeadedAttention` and `MLP`\n",
    "\t\t# uses nn.Embedding for the embedding, transpose of it for the unembedding\n",
    "\n",
    "\tdef forward(self, x: Int[torch.Tensor, \"n_context\"]) -> Float[torch.Tensor, \"n_context d_vocab\"]:\n",
    "     \n",
    "\t\t# x is a sequence of token ids, shape (n_context,)\n",
    "\t\t# we need to embed it, then pass it through the transformer layers\n",
    "\t\t# then we need to unembed it\n",
    "\t\t# the output of the transformer layers is a sequence of vectors, shape (n_context, d_model)\n",
    "\t\t# the unembedding layer is a linear layer that maps from d_model to d_vocab\n",
    "\t\t# the output of the unembedding layer is a sequence of logits, shape (n_context, d_vocab)\n",
    "\t\t# the logits are the output of the model, we return them\n",
    "  \n",
    "\t\tx = self.embedding(x) # shape (n_context, d_model)\n",
    "\t\t\n",
    "\t\tfor layer in self.layers:\n",
    "\t\t\tattn_out = layer['attn'](x)\n",
    "\t\t\tx += attn_out\n",
    "\t\t\tmlp_out = layer['mlp'](x)\n",
    "\t\t\tx += mlp_out\n",
    "\t\treturn F.softmax(self.unembedding(x))"
   ]
  },
  {
   "cell_type": "code",
   "execution_count": 10,
   "metadata": {},
   "outputs": [],
   "source": [
    "cfg = GPTConfig()\n",
    "n_context = 10\n",
    "x = torch.randint(0, cfg.d_vocab, (n_context,))"
   ]
  },
  {
   "cell_type": "code",
   "execution_count": 11,
   "metadata": {},
   "outputs": [
    {
     "name": "stdout",
     "output_type": "stream",
     "text": [
      "torch.Size([10])\n",
      "torch.Size([10, 10000])\n"
     ]
    },
    {
     "name": "stderr",
     "output_type": "stream",
     "text": [
      "C:\\Users\\logan\\AppData\\Local\\Temp\\ipykernel_19964\\3266049027.py:44: UserWarning: Implicit dimension choice for softmax has been deprecated. Change the call to include dim=X as an argument.\n",
      "  return F.softmax(self.W_Q(x) @ self.W_K(x).T + M) @ self.W_O(self.W_V(x))\n",
      "C:\\Users\\logan\\AppData\\Local\\Temp\\ipykernel_19964\\3266049027.py:120: UserWarning: Implicit dimension choice for softmax has been deprecated. Change the call to include dim=X as an argument.\n",
      "  return F.softmax(self.unembedding(x))\n"
     ]
    },
    {
     "data": {
      "image/png": "[encoded data removed]",
      "text/plain": [
       "<Figure size 640x480 with 2 Axes>"
      ]
     },
     "metadata": {},
     "output_type": "display_data"
    }
   ],
   "source": [
    "transform = Transformer(cfg)\n",
    "print(x.shape)\n",
    "output = transform(x)\n",
    "print(output.shape)\n",
    "# print(attn(x))\n",
    "# print(mh_attn(x))\n",
    "\n",
    "# visualize the attention scores\n",
    "plt.imshow(output.detach().numpy()[:, :100], cmap='viridis', interpolation='nearest')\n",
    "plt.colorbar(label=\"Value\")  # Add a color bar\n",
    "plt.title(\"Attention Output Visualization\")\n",
    "plt.xlabel(\"Context\")\n",
    "plt.ylabel(\"Context\")\n",
    "plt.show()\n",
    "# visualize the attention scores"
   ]
  },
  {
   "cell_type": "code",
   "execution_count": 12,
   "metadata": {},
   "outputs": [
    {
     "name": "stdout",
     "output_type": "stream",
     "text": [
      "torch.Size([10, 128])\n",
      "torch.Size([10, 128])\n"
     ]
    },
    {
     "name": "stderr",
     "output_type": "stream",
     "text": [
      "C:\\Users\\logan\\AppData\\Local\\Temp\\ipykernel_19964\\3266049027.py:44: UserWarning: Implicit dimension choice for softmax has been deprecated. Change the call to include dim=X as an argument.\n",
      "  return F.softmax(self.W_Q(x) @ self.W_K(x).T + M) @ self.W_O(self.W_V(x))\n"
     ]
    },
    {
     "data": {
      "image/png": "[encoded data removed]",
      "text/plain": [
       "<Figure size 640x480 with 2 Axes>"
      ]
     },
     "metadata": {},
     "output_type": "display_data"
    }
   ],
   "source": [
    "cfg = GPTConfig()\n",
    "\n",
    "ah = AttentionHead(cfg)\n",
    "x = torch.randn(10, cfg.d_model)\n",
    "print(ah(x).shape)\n",
    "\n",
    "output = ah.forward(x)\n",
    "print(output.shape)\n",
    "\n",
    "\n",
    "# visualize the attention scores\n",
    "plt.imshow(output.detach().numpy(), cmap='viridis', interpolation='nearest')\n",
    "plt.colorbar(label=\"Value\")  # Add a color bar\n",
    "plt.title(\"Attention Output Visualization\")\n",
    "plt.xlabel(\"Context\")\n",
    "plt.ylabel(\"Context\")\n",
    "plt.show()\n",
    "# visualize the attention scores\n"
   ]
  },
  {
   "cell_type": "code",
   "execution_count": 16,
   "metadata": {},
   "outputs": [],
   "source": [
    "#config\n",
    "batch_size = 8\n",
    "model_cfg = GPTConfig(d_model=128, d_vocab=10000, n_heads=4, n_layers=6, d_mlp=512)"
   ]
  },
  {
   "cell_type": "code",
   "execution_count": 1,
   "metadata": {},
   "outputs": [
    {
     "name": "stderr",
     "output_type": "stream",
     "text": [
      "c:\\Users\\logan\\Transformers\\.venv\\Lib\\site-packages\\tqdm\\auto.py:21: TqdmWarning: IProgress not found. Please update jupyter and ipywidgets. See https://ipywidgets.readthedocs.io/en/stable/user_install.html\n",
      "  from .autonotebook import tqdm as notebook_tqdm\n"
     ]
    },
    {
     "name": "stdout",
     "output_type": "stream",
     "text": [
      "Getting book 84...\n",
      "\t426785 characters read\n",
      "Getting book 84...\n",
      "\t359291 characters read\n",
      "Getting book 84...\n",
      "\t656545 characters read\n",
      "Getting book 84...\n",
      "\t2628536 characters read\n",
      "Getting book 84...\n",
      "\t789503 characters read\n",
      "Getting book 84...\n",
      "\t810978 characters read\n",
      "Getting book 84...\n",
      "\t531109 characters read\n",
      "Getting book 84...\n",
      "\t178879 characters read\n",
      "Getting book 84...\n",
      "\t378503 characters read\n",
      "Getting book 84...\n",
      "\t124228 characters read\n",
      "Loaded 10 books\n",
      "First book preview: \n",
      "\n",
      "\n",
      "\n",
      "Frankenstein;\n",
      "\n",
      "\n",
      "\n",
      "or, the Modern Prometheus\n",
      "\n",
      "\n",
      "\n",
      "by Mary Wollstonecraft (Godwin) Shelley\n",
      "\n",
      "\n",
      "\n",
      "\n",
      "\n",
      " CONTENTS\n",
      "\n",
      "\n",
      "\n",
      " Letter 1\n",
      "\n",
      " Letter 2\n",
      "\n",
      " Letter 3\n",
      "\n",
      " Letter 4\n",
      "\n",
      " Chapter 1\n",
      "\n",
      " Chapter 2\n",
      "\n",
      " Chapter 3\n",
      "\n",
      " Chapter 4\n",
      "\n",
      "...\n"
     ]
    }
   ],
   "source": [
    "#create data \n",
    "#dependincies\n",
    "#pip install requests\n",
    "#pip install torch\n",
    "from get_books import get_many_books, get_gutenberg_book\n",
    "from transformers import AutoTokenizer\n",
    "import torch\n",
    "from torch.utils.data import DataLoader, Dataset\n",
    "\n",
    "#list of book IDs to download\n",
    "book_ids = [84, 85, 86, 87, 88, 89, 90, 91, 92, 93]  \n",
    "\n",
    "dataset = get_many_books(book_ids, data_temp=\"./data/gutenberg_data\")\n",
    "\n",
    "batch_size = 32  \n",
    "\n",
    "class TextDataset(Dataset):\n",
    "    def __init__(self, texts, max_length=512):\n",
    "        self.texts = texts\n",
    "        self.max_length = max_length\n",
    "        self.tokenizer = AutoTokenizer.from_pretrained(\"gpt2\")  # Initialize tokenizer once\n",
    "        \n",
    "    def __len__(self):\n",
    "        return len(self.texts)\n",
    "    \n",
    "    def __getitem__(self, idx):\n",
    "        encoding = self.tokenizer(\n",
    "            self.texts[idx],\n",
    "            truncation=True,\n",
    "            padding='max_length',\n",
    "            max_length=self.max_length,\n",
    "            return_tensors='pt'\n",
    "        )\n",
    "        return {\n",
    "            'input_ids': encoding['input_ids'].squeeze(0),\n",
    "            'attention_mask': encoding['attention_mask'].squeeze(0)\n",
    "        }\n",
    "\n",
    "# Create dataset and dataloader\n",
    "text_dataset = TextDataset(dataset)\n",
    "dataloader = DataLoader(text_dataset, batch_size=batch_size, shuffle=True, num_workers=4, pin_memory=True)\n",
    "\n",
    "# Print first book to verify data loading\n",
    "print(f\"Loaded {len(dataset)} books\")\n",
    "print(f\"First book preview: {dataset[0][:200]}...\")\n",
    "\n"
   ]
  },
  {
   "cell_type": "code",
   "execution_count": null,
   "metadata": {},
   "outputs": [],
   "source": [
    "#create model"
   ]
  },
  {
   "cell_type": "code",
   "execution_count": null,
   "metadata": {},
   "outputs": [],
   "source": []
  }
 ],
 "metadata": {
  "kernelspec": {
   "display_name": ".venv",
   "language": "python",
   "name": "python3"
  },
  "language_info": {
   "codemirror_mode": {
    "name": "ipython",
    "version": 3
   },
   "file_extension": ".py",
   "mimetype": "text/x-python",
   "name": "python",
   "nbconvert_exporter": "python",
   "pygments_lexer": "ipython3",
   "version": "3.12.9"
  }
 },
 "nbformat": 4,
 "nbformat_minor": 2
}
