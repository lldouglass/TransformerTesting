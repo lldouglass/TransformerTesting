{
 "cells": [
  {
   "cell_type": "code",
   "execution_count": 103,
   "metadata": {},
   "outputs": [],
   "source": [
    "from dataclasses import dataclass\n",
    "\n",
    "import torch\n",
    "import torch.nn as nn\n",
    "import torch.nn.functional as F\n",
    "from dataclasses import dataclass\n",
    "from jaxtyping import Float, Int\n",
    "import matplotlib.pyplot as plt"
   ]
  },
  {
   "cell_type": "code",
   "execution_count": 104,
   "metadata": {},
   "outputs": [],
   "source": [
    "# def create_mask(n_context: int) -> Float[torch.Tensor, \"n_context n_context\"]:\n",
    "def create_mask(n_context: int) -> torch.Tensor:\n",
    "    mask = torch.zeros(n_context, n_context)\n",
    "    indices = torch.triu_indices(n_context, n_context, offset=1)\n",
    "    mask[indices[0], indices[1]] = float('-inf') \n",
    "    return mask"
   ]
  },
  {
   "cell_type": "code",
   "execution_count": 105,
   "metadata": {},
   "outputs": [],
   "source": [
    "\n",
    "# Configuration class for our transformer\n",
    "@dataclass\n",
    "class GPTConfig:\n",
    "\td_vocab: int = 10_000 \n",
    "\td_model: int = 128\n",
    "\td_mlp: int = 512\n",
    "\tn_heads: int = 4\n",
    "\td_head: int = 32\n",
    "\tn_layers: int = 6\n",
    "\tmax_ctx: int = 512\n",
    "\n",
    "\n",
    "class AttentionHead(nn.Module):\n",
    "\n",
    "\tdef __init__(self, cfg: GPTConfig):\n",
    "\t\tsuper().__init__()\n",
    "\n",
    "\t\t# Define learned attention matrices\n",
    "\t\tself.W_Q = nn.Linear(cfg.d_model, cfg.d_head)\n",
    "\t\tself.W_K = nn.Linear(cfg.d_model, cfg.d_head)\n",
    "\t\tself.W_O = nn.Linear(cfg.d_head, cfg.d_model)\n",
    "\t\tself.W_V = nn.Linear(cfg.d_model, cfg.d_head)\n",
    "\n",
    "\tdef forward(self, x: Float[torch.Tensor, \"n_context d_model\"]) -> Float[torch.Tensor, \"n_context d_model\"]:\n",
    "\t\tM = create_mask(x.size(0)).to(x.device) # Make sure mask is on same device as input tensor\n",
    "\t\treturn F.softmax(self.W_Q(x) @ self.W_K(x).T + M) @ self.W_O(self.W_V(x)) # Attention equation\n",
    "\t\t\n",
    "\n",
    "\n",
    "class MultiHeadedAttention(nn.Module):\n",
    "\n",
    "\tdef __init__(self, cfg: GPTConfig):\n",
    "\t\tsuper().__init__()\n",
    "\t\tself.cfg = cfg\n",
    "\n",
    "\t\t# List of attention heads\n",
    "\t\tself.heads = nn.ModuleList([AttentionHead(cfg) for i in range(cfg.n_heads)])\n",
    "\n",
    "\tdef forward(self, x: Float[torch.Tensor, \"n_context d_model\"]) -> Float[torch.Tensor, \"n_context d_model\"]:\n",
    "\t\t\n",
    "\t\t\n",
    "\t\t\n",
    "\t\thead_outputs = [head(x) for head in self.heads]  # List of tensors\n",
    "\t\tsum_output = sum(head_outputs) # Adds all head outputs together\n",
    "\n",
    "\t\treturn sum_output\n",
    "\n",
    "\n",
    "\n",
    "\n",
    "class MLP(nn.Module):\n",
    "\n",
    "\tdef __init__(self, cfg: GPTConfig):\n",
    "\t\tsuper().__init__()\n",
    "\t\tself.cfg = cfg\n",
    "\n",
    "\t\t# Define layers of MLP\n",
    "\t\tself.Hidden = nn.Linear(cfg.d_model, cfg.d_mlp)\n",
    "\t\tself.Output = nn.Linear(cfg.d_mlp, cfg.d_model)\n",
    "\n",
    "\t\t# Using GELU activation function\n",
    "\t\tself.gelu = nn.GELU()\n",
    "\t\t\n",
    "\tdef forward(self, x: torch.Tensor) -> torch.Tensor:\n",
    "\n",
    "\t\t# It's an MLP\n",
    "\t\treturn self.gelu(self.Output(self.gelu(self.Hidden(x))))\n",
    "\n",
    "\n",
    "\n",
    "class Transformer(nn.Module):\n",
    "\n",
    "\tdef __init__(self, cfg: GPTConfig):\n",
    "\t\tsuper().__init__()\n",
    "\t\tself.cfg = cfg\n",
    "\n",
    "\t\t# Creates positional embedding matrix that covers all possible context lengths\n",
    "\t\tself.pos_embedding = nn.Embedding(cfg.max_ctx, cfg.d_model)\n",
    "\n",
    "\t\t# Embedding and unembedding matrices\n",
    "\t\tself.embedding = nn.Embedding(cfg.d_vocab, cfg.d_model)\n",
    "\t\tself.unembedding = nn.Linear(cfg.d_model, cfg.d_vocab)\t\n",
    "\n",
    "\t\t# Layernorm\n",
    "\t\tself.norm = nn.LayerNorm(cfg.d_model)\n",
    "\n",
    "\t\t# Creates dictionary of attention heads and mlps depending on transformer depth\n",
    "\t\tself.layers = nn.ModuleList(\n",
    "\t\t\tnn.ModuleDict({\n",
    "\t\t\t\t'attn': MultiHeadedAttention(cfg),\n",
    "\t\t\t\t'mlp': MLP(cfg)\n",
    "\t\t\t}) for _ in range(cfg.n_layers)\n",
    "\t\t)\n",
    "\n",
    "\tdef forward(self, x: Float[torch.Tensor, \"n_context d_vocab\"]) -> Float[torch.Tensor, \"n_context d_vocab\"]:\n",
    "  \n",
    "\t\tx = self.embedding(x) # shape (n_context, d_model)\n",
    "\t\t\n",
    "\t\tpositions = torch.arange(x.size(0), device=x.device)  # (n_context, 1)\n",
    "\t\tpos_emb = self.pos_embedding(positions)  # (n_context, d_model)\n",
    "\n",
    "\t\tx = x + pos_emb\n",
    "\n",
    "\t\tfor layer in self.layers:\n",
    "\t\t\t\n",
    "\t\t\t# Residual connections for each layer\n",
    "\t\t\tx = x + layer['attn'](self.norm(x)) \n",
    "\t\t\tx = x + layer['mlp'](self.norm(x))\n",
    "\t\t\n",
    "\t\treturn self.unembedding(x)"
   ]
  },
  {
   "cell_type": "code",
   "execution_count": 106,
   "metadata": {},
   "outputs": [],
   "source": [
    "cfg = GPTConfig()\n",
    "#model = Transformer(cfg)\n",
    "n_context = 10\n",
    "x = torch.randint(0, cfg.d_vocab, (n_context,))"
   ]
  },
  {
   "cell_type": "code",
   "execution_count": 107,
   "metadata": {},
   "outputs": [
    {
     "name": "stdout",
     "output_type": "stream",
     "text": [
      "torch.Size([10])\n",
      "torch.Size([10, 10000])\n"
     ]
    },
    {
     "name": "stderr",
     "output_type": "stream",
     "text": [
      "C:\\Users\\shiff\\AppData\\Local\\Temp\\ipykernel_24276\\543826298.py:26: UserWarning: Implicit dimension choice for softmax has been deprecated. Change the call to include dim=X as an argument.\n",
      "  return F.softmax(self.W_Q(x) @ self.W_K(x).T + M) @ self.W_O(self.W_V(x)) # Attention equation\n"
     ]
    },
    {
     "data": {
      "image/png": "[encoded data removed]",
      "text/plain": [
       "<Figure size 640x480 with 2 Axes>"
      ]
     },
     "metadata": {},
     "output_type": "display_data"
    }
   ],
   "source": [
    "transform = Transformer(cfg)\n",
    "print(x.shape)\n",
    "output = transform(x)\n",
    "print(output.shape)\n",
    "# print(attn(x))\n",
    "# print(mh_attn(x))\n",
    "\n",
    "# visualize the attention scores\n",
    "plt.imshow(output.detach().numpy()[:, :100], cmap='viridis', interpolation='nearest')\n",
    "plt.colorbar(label=\"Value\")  # Add a color bar\n",
    "plt.title(\"Attention Output Visualization\")\n",
    "plt.xlabel(\"Context\")\n",
    "plt.ylabel(\"Context\")\n",
    "plt.show()\n",
    "# visualize the attention scores"
   ]
  },
  {
   "cell_type": "code",
   "execution_count": null,
   "metadata": {},
   "outputs": [
    {
     "name": "stdout",
     "output_type": "stream",
     "text": [
      "Getting book 84...\n",
      "\t426785 characters read\n",
      "Getting book 84...\n",
      "\t359291 characters read\n",
      "Getting book 84...\n",
      "\t656545 characters read\n"
     ]
    },
    {
     "name": "stderr",
     "output_type": "stream",
     "text": [
      "Token indices sequence length is longer than the specified maximum sequence length for this model (385869 > 1024). Running this sequence through the model will result in indexing errors\n"
     ]
    },
    {
     "name": "stdout",
     "output_type": "stream",
     "text": [
      "torch.Size([3858, 100])\n"
     ]
    }
   ],
   "source": [
    "\n",
    "from get_books import get_many_books\n",
    "from transformers import AutoTokenizer\n",
    "from torch.utils.data import DataLoader, TensorDataset\n",
    "\n",
    "tokenizer = AutoTokenizer.from_pretrained(\"gpt2\")  # Initialize tokenizer once\n",
    "model_cfg = GPTConfig(d_vocab=tokenizer.vocab_size) # Configure the model for GPT2 vocab size\n",
    "\n",
    "# Import some books and pull them all into one giant string\n",
    "book_ids = [84, 85, 86]\n",
    "dataset = get_many_books(book_ids, data_temp=\"./data/gutenberg_data\")\n",
    "rawtext = \"\"\n",
    "for book in dataset:\n",
    "    rawtext += book\n",
    "\n",
    "# Tokenize the entire dataset (ignore warning about sequence length thrown here)\n",
    "tokens = tokenizer(rawtext, return_tensors=\"pt\")\n",
    "\n",
    "# Reorganize tokens into lengths of chunk_size\n",
    "chunk_size = 100\n",
    "to_remove = tokens[\"input_ids\"].shape[1] % chunk_size\n",
    "new_shape = tokens[\"input_ids\"].shape[1] // chunk_size\n",
    "attention_mask = tokens['attention_mask'][0][:-to_remove].reshape(new_shape, chunk_size)\n",
    "input_ids = tokens['input_ids'][0][:-to_remove].reshape(new_shape, chunk_size)\n",
    "\n",
    "# Format tokens for dataloader and load them in\n",
    "tensor = TensorDataset(input_ids, attention_mask)\n",
    "dataloader = DataLoader(tensor, batch_size=8, shuffle=True)"
   ]
  },
  {
   "cell_type": "code",
   "execution_count": null,
   "metadata": {},
   "outputs": [
    {
     "name": "stderr",
     "output_type": "stream",
     "text": [
      "C:\\Users\\shiff\\AppData\\Local\\Temp\\ipykernel_24276\\543826298.py:26: UserWarning: Implicit dimension choice for softmax has been deprecated. Change the call to include dim=X as an argument.\n",
      "  return F.softmax(self.W_Q(x) @ self.W_K(x).T + M) @ self.W_O(self.W_V(x)) # Attention equation\n"
     ]
    },
    {
     "name": "stdout",
     "output_type": "stream",
     "text": [
      "Epoch 1, Step 10, Loss: 8.3131\n",
      "Epoch 1, Step 20, Loss: 6.9440\n"
     ]
    },
    {
     "ename": "KeyboardInterrupt",
     "evalue": "",
     "output_type": "error",
     "traceback": [
      "\u001b[31m---------------------------------------------------------------------------\u001b[39m",
      "\u001b[31mKeyboardInterrupt\u001b[39m                         Traceback (most recent call last)",
      "\u001b[36mCell\u001b[39m\u001b[36m \u001b[39m\u001b[32mIn[109]\u001b[39m\u001b[32m, line 39\u001b[39m\n\u001b[32m     35\u001b[39m targ = seq_ids[\u001b[32m1\u001b[39m:]    \u001b[38;5;66;03m# shape [seq_len - 1]\u001b[39;00m\n\u001b[32m     37\u001b[39m \u001b[38;5;66;03m# Forward pass\u001b[39;00m\n\u001b[32m     38\u001b[39m \u001b[38;5;66;03m# Your model returns logits of shape [seq_len-1, d_vocab]\u001b[39;00m\n\u001b[32m---> \u001b[39m\u001b[32m39\u001b[39m logits = \u001b[43mmodel\u001b[49m\u001b[43m(\u001b[49m\u001b[43minp\u001b[49m\u001b[43m)\u001b[49m\n\u001b[32m     41\u001b[39m \u001b[38;5;66;03m# Compute loss across this sequence\u001b[39;00m\n\u001b[32m     42\u001b[39m \u001b[38;5;66;03m# CrossEntropyLoss expects [batch, vocab], so we can pass [seq_len-1, d_vocab] vs. [seq_len-1]\u001b[39;00m\n\u001b[32m     43\u001b[39m loss = criterion(logits, targ)\n",
      "\u001b[36mFile \u001b[39m\u001b[32mc:\\Users\\shiff\\Documents\\MATH598B\\TransformerTesting\\myenv\\Lib\\site-packages\\torch\\nn\\modules\\module.py:1736\u001b[39m, in \u001b[36mModule._wrapped_call_impl\u001b[39m\u001b[34m(self, *args, **kwargs)\u001b[39m\n\u001b[32m   1734\u001b[39m     \u001b[38;5;28;01mreturn\u001b[39;00m \u001b[38;5;28mself\u001b[39m._compiled_call_impl(*args, **kwargs)  \u001b[38;5;66;03m# type: ignore[misc]\u001b[39;00m\n\u001b[32m   1735\u001b[39m \u001b[38;5;28;01melse\u001b[39;00m:\n\u001b[32m-> \u001b[39m\u001b[32m1736\u001b[39m     \u001b[38;5;28;01mreturn\u001b[39;00m \u001b[38;5;28;43mself\u001b[39;49m\u001b[43m.\u001b[49m\u001b[43m_call_impl\u001b[49m\u001b[43m(\u001b[49m\u001b[43m*\u001b[49m\u001b[43margs\u001b[49m\u001b[43m,\u001b[49m\u001b[43m \u001b[49m\u001b[43m*\u001b[49m\u001b[43m*\u001b[49m\u001b[43mkwargs\u001b[49m\u001b[43m)\u001b[49m\n",
      "\u001b[36mFile \u001b[39m\u001b[32mc:\\Users\\shiff\\Documents\\MATH598B\\TransformerTesting\\myenv\\Lib\\site-packages\\torch\\nn\\modules\\module.py:1747\u001b[39m, in \u001b[36mModule._call_impl\u001b[39m\u001b[34m(self, *args, **kwargs)\u001b[39m\n\u001b[32m   1742\u001b[39m \u001b[38;5;66;03m# If we don't have any hooks, we want to skip the rest of the logic in\u001b[39;00m\n\u001b[32m   1743\u001b[39m \u001b[38;5;66;03m# this function, and just call forward.\u001b[39;00m\n\u001b[32m   1744\u001b[39m \u001b[38;5;28;01mif\u001b[39;00m \u001b[38;5;129;01mnot\u001b[39;00m (\u001b[38;5;28mself\u001b[39m._backward_hooks \u001b[38;5;129;01mor\u001b[39;00m \u001b[38;5;28mself\u001b[39m._backward_pre_hooks \u001b[38;5;129;01mor\u001b[39;00m \u001b[38;5;28mself\u001b[39m._forward_hooks \u001b[38;5;129;01mor\u001b[39;00m \u001b[38;5;28mself\u001b[39m._forward_pre_hooks\n\u001b[32m   1745\u001b[39m         \u001b[38;5;129;01mor\u001b[39;00m _global_backward_pre_hooks \u001b[38;5;129;01mor\u001b[39;00m _global_backward_hooks\n\u001b[32m   1746\u001b[39m         \u001b[38;5;129;01mor\u001b[39;00m _global_forward_hooks \u001b[38;5;129;01mor\u001b[39;00m _global_forward_pre_hooks):\n\u001b[32m-> \u001b[39m\u001b[32m1747\u001b[39m     \u001b[38;5;28;01mreturn\u001b[39;00m \u001b[43mforward_call\u001b[49m\u001b[43m(\u001b[49m\u001b[43m*\u001b[49m\u001b[43margs\u001b[49m\u001b[43m,\u001b[49m\u001b[43m \u001b[49m\u001b[43m*\u001b[49m\u001b[43m*\u001b[49m\u001b[43mkwargs\u001b[49m\u001b[43m)\u001b[49m\n\u001b[32m   1749\u001b[39m result = \u001b[38;5;28;01mNone\u001b[39;00m\n\u001b[32m   1750\u001b[39m called_always_called_hooks = \u001b[38;5;28mset\u001b[39m()\n",
      "\u001b[36mCell\u001b[39m\u001b[36m \u001b[39m\u001b[32mIn[105]\u001b[39m\u001b[32m, line 107\u001b[39m, in \u001b[36mTransformer.forward\u001b[39m\u001b[34m(self, x)\u001b[39m\n\u001b[32m    102\u001b[39m x = x + pos_emb\n\u001b[32m    104\u001b[39m \u001b[38;5;28;01mfor\u001b[39;00m layer \u001b[38;5;129;01min\u001b[39;00m \u001b[38;5;28mself\u001b[39m.layers:\n\u001b[32m    105\u001b[39m \t\n\u001b[32m    106\u001b[39m \t\u001b[38;5;66;03m# Residual connections for each layer\u001b[39;00m\n\u001b[32m--> \u001b[39m\u001b[32m107\u001b[39m \tx = x + \u001b[43mlayer\u001b[49m\u001b[43m[\u001b[49m\u001b[33;43m'\u001b[39;49m\u001b[33;43mattn\u001b[39;49m\u001b[33;43m'\u001b[39;49m\u001b[43m]\u001b[49m\u001b[43m(\u001b[49m\u001b[38;5;28;43mself\u001b[39;49m\u001b[43m.\u001b[49m\u001b[43mnorm\u001b[49m\u001b[43m(\u001b[49m\u001b[43mx\u001b[49m\u001b[43m)\u001b[49m\u001b[43m)\u001b[49m \n\u001b[32m    108\u001b[39m \tx = x + layer[\u001b[33m'\u001b[39m\u001b[33mmlp\u001b[39m\u001b[33m'\u001b[39m](\u001b[38;5;28mself\u001b[39m.norm(x))\n\u001b[32m    110\u001b[39m \u001b[38;5;28;01mreturn\u001b[39;00m \u001b[38;5;28mself\u001b[39m.unembedding(x)\n",
      "\u001b[36mFile \u001b[39m\u001b[32mc:\\Users\\shiff\\Documents\\MATH598B\\TransformerTesting\\myenv\\Lib\\site-packages\\torch\\nn\\modules\\module.py:1736\u001b[39m, in \u001b[36mModule._wrapped_call_impl\u001b[39m\u001b[34m(self, *args, **kwargs)\u001b[39m\n\u001b[32m   1734\u001b[39m     \u001b[38;5;28;01mreturn\u001b[39;00m \u001b[38;5;28mself\u001b[39m._compiled_call_impl(*args, **kwargs)  \u001b[38;5;66;03m# type: ignore[misc]\u001b[39;00m\n\u001b[32m   1735\u001b[39m \u001b[38;5;28;01melse\u001b[39;00m:\n\u001b[32m-> \u001b[39m\u001b[32m1736\u001b[39m     \u001b[38;5;28;01mreturn\u001b[39;00m \u001b[38;5;28;43mself\u001b[39;49m\u001b[43m.\u001b[49m\u001b[43m_call_impl\u001b[49m\u001b[43m(\u001b[49m\u001b[43m*\u001b[49m\u001b[43margs\u001b[49m\u001b[43m,\u001b[49m\u001b[43m \u001b[49m\u001b[43m*\u001b[49m\u001b[43m*\u001b[49m\u001b[43mkwargs\u001b[49m\u001b[43m)\u001b[49m\n",
      "\u001b[36mFile \u001b[39m\u001b[32mc:\\Users\\shiff\\Documents\\MATH598B\\TransformerTesting\\myenv\\Lib\\site-packages\\torch\\nn\\modules\\module.py:1747\u001b[39m, in \u001b[36mModule._call_impl\u001b[39m\u001b[34m(self, *args, **kwargs)\u001b[39m\n\u001b[32m   1742\u001b[39m \u001b[38;5;66;03m# If we don't have any hooks, we want to skip the rest of the logic in\u001b[39;00m\n\u001b[32m   1743\u001b[39m \u001b[38;5;66;03m# this function, and just call forward.\u001b[39;00m\n\u001b[32m   1744\u001b[39m \u001b[38;5;28;01mif\u001b[39;00m \u001b[38;5;129;01mnot\u001b[39;00m (\u001b[38;5;28mself\u001b[39m._backward_hooks \u001b[38;5;129;01mor\u001b[39;00m \u001b[38;5;28mself\u001b[39m._backward_pre_hooks \u001b[38;5;129;01mor\u001b[39;00m \u001b[38;5;28mself\u001b[39m._forward_hooks \u001b[38;5;129;01mor\u001b[39;00m \u001b[38;5;28mself\u001b[39m._forward_pre_hooks\n\u001b[32m   1745\u001b[39m         \u001b[38;5;129;01mor\u001b[39;00m _global_backward_pre_hooks \u001b[38;5;129;01mor\u001b[39;00m _global_backward_hooks\n\u001b[32m   1746\u001b[39m         \u001b[38;5;129;01mor\u001b[39;00m _global_forward_hooks \u001b[38;5;129;01mor\u001b[39;00m _global_forward_pre_hooks):\n\u001b[32m-> \u001b[39m\u001b[32m1747\u001b[39m     \u001b[38;5;28;01mreturn\u001b[39;00m \u001b[43mforward_call\u001b[49m\u001b[43m(\u001b[49m\u001b[43m*\u001b[49m\u001b[43margs\u001b[49m\u001b[43m,\u001b[49m\u001b[43m \u001b[49m\u001b[43m*\u001b[49m\u001b[43m*\u001b[49m\u001b[43mkwargs\u001b[49m\u001b[43m)\u001b[49m\n\u001b[32m   1749\u001b[39m result = \u001b[38;5;28;01mNone\u001b[39;00m\n\u001b[32m   1750\u001b[39m called_always_called_hooks = \u001b[38;5;28mset\u001b[39m()\n",
      "\u001b[36mCell\u001b[39m\u001b[36m \u001b[39m\u001b[32mIn[105]\u001b[39m\u001b[32m, line 43\u001b[39m, in \u001b[36mMultiHeadedAttention.forward\u001b[39m\u001b[34m(self, x)\u001b[39m\n\u001b[32m     39\u001b[39m \u001b[38;5;28;01mdef\u001b[39;00m\u001b[38;5;250m \u001b[39m\u001b[34mforward\u001b[39m(\u001b[38;5;28mself\u001b[39m, x: Float[torch.Tensor, \u001b[33m\"\u001b[39m\u001b[33mn_context d_model\u001b[39m\u001b[33m\"\u001b[39m]) -> Float[torch.Tensor, \u001b[33m\"\u001b[39m\u001b[33mn_context d_model\u001b[39m\u001b[33m\"\u001b[39m]:\n\u001b[32m---> \u001b[39m\u001b[32m43\u001b[39m \thead_outputs = [\u001b[43mhead\u001b[49m\u001b[43m(\u001b[49m\u001b[43mx\u001b[49m\u001b[43m)\u001b[49m \u001b[38;5;28;01mfor\u001b[39;00m head \u001b[38;5;129;01min\u001b[39;00m \u001b[38;5;28mself\u001b[39m.heads]  \u001b[38;5;66;03m# List of tensors\u001b[39;00m\n\u001b[32m     44\u001b[39m \tsum_output = \u001b[38;5;28msum\u001b[39m(head_outputs) \u001b[38;5;66;03m# Adds all head outputs together\u001b[39;00m\n\u001b[32m     46\u001b[39m \t\u001b[38;5;28;01mreturn\u001b[39;00m sum_output\n",
      "\u001b[36mFile \u001b[39m\u001b[32mc:\\Users\\shiff\\Documents\\MATH598B\\TransformerTesting\\myenv\\Lib\\site-packages\\torch\\nn\\modules\\module.py:1736\u001b[39m, in \u001b[36mModule._wrapped_call_impl\u001b[39m\u001b[34m(self, *args, **kwargs)\u001b[39m\n\u001b[32m   1734\u001b[39m     \u001b[38;5;28;01mreturn\u001b[39;00m \u001b[38;5;28mself\u001b[39m._compiled_call_impl(*args, **kwargs)  \u001b[38;5;66;03m# type: ignore[misc]\u001b[39;00m\n\u001b[32m   1735\u001b[39m \u001b[38;5;28;01melse\u001b[39;00m:\n\u001b[32m-> \u001b[39m\u001b[32m1736\u001b[39m     \u001b[38;5;28;01mreturn\u001b[39;00m \u001b[38;5;28;43mself\u001b[39;49m\u001b[43m.\u001b[49m\u001b[43m_call_impl\u001b[49m\u001b[43m(\u001b[49m\u001b[43m*\u001b[49m\u001b[43margs\u001b[49m\u001b[43m,\u001b[49m\u001b[43m \u001b[49m\u001b[43m*\u001b[49m\u001b[43m*\u001b[49m\u001b[43mkwargs\u001b[49m\u001b[43m)\u001b[49m\n",
      "\u001b[36mFile \u001b[39m\u001b[32mc:\\Users\\shiff\\Documents\\MATH598B\\TransformerTesting\\myenv\\Lib\\site-packages\\torch\\nn\\modules\\module.py:1747\u001b[39m, in \u001b[36mModule._call_impl\u001b[39m\u001b[34m(self, *args, **kwargs)\u001b[39m\n\u001b[32m   1742\u001b[39m \u001b[38;5;66;03m# If we don't have any hooks, we want to skip the rest of the logic in\u001b[39;00m\n\u001b[32m   1743\u001b[39m \u001b[38;5;66;03m# this function, and just call forward.\u001b[39;00m\n\u001b[32m   1744\u001b[39m \u001b[38;5;28;01mif\u001b[39;00m \u001b[38;5;129;01mnot\u001b[39;00m (\u001b[38;5;28mself\u001b[39m._backward_hooks \u001b[38;5;129;01mor\u001b[39;00m \u001b[38;5;28mself\u001b[39m._backward_pre_hooks \u001b[38;5;129;01mor\u001b[39;00m \u001b[38;5;28mself\u001b[39m._forward_hooks \u001b[38;5;129;01mor\u001b[39;00m \u001b[38;5;28mself\u001b[39m._forward_pre_hooks\n\u001b[32m   1745\u001b[39m         \u001b[38;5;129;01mor\u001b[39;00m _global_backward_pre_hooks \u001b[38;5;129;01mor\u001b[39;00m _global_backward_hooks\n\u001b[32m   1746\u001b[39m         \u001b[38;5;129;01mor\u001b[39;00m _global_forward_hooks \u001b[38;5;129;01mor\u001b[39;00m _global_forward_pre_hooks):\n\u001b[32m-> \u001b[39m\u001b[32m1747\u001b[39m     \u001b[38;5;28;01mreturn\u001b[39;00m \u001b[43mforward_call\u001b[49m\u001b[43m(\u001b[49m\u001b[43m*\u001b[49m\u001b[43margs\u001b[49m\u001b[43m,\u001b[49m\u001b[43m \u001b[49m\u001b[43m*\u001b[49m\u001b[43m*\u001b[49m\u001b[43mkwargs\u001b[49m\u001b[43m)\u001b[49m\n\u001b[32m   1749\u001b[39m result = \u001b[38;5;28;01mNone\u001b[39;00m\n\u001b[32m   1750\u001b[39m called_always_called_hooks = \u001b[38;5;28mset\u001b[39m()\n",
      "\u001b[36mCell\u001b[39m\u001b[36m \u001b[39m\u001b[32mIn[105]\u001b[39m\u001b[32m, line 25\u001b[39m, in \u001b[36mAttentionHead.forward\u001b[39m\u001b[34m(self, x)\u001b[39m\n\u001b[32m     24\u001b[39m \u001b[38;5;28;01mdef\u001b[39;00m\u001b[38;5;250m \u001b[39m\u001b[34mforward\u001b[39m(\u001b[38;5;28mself\u001b[39m, x: Float[torch.Tensor, \u001b[33m\"\u001b[39m\u001b[33mn_context d_model\u001b[39m\u001b[33m\"\u001b[39m]) -> Float[torch.Tensor, \u001b[33m\"\u001b[39m\u001b[33mn_context d_model\u001b[39m\u001b[33m\"\u001b[39m]:\n\u001b[32m---> \u001b[39m\u001b[32m25\u001b[39m \tM = \u001b[43mcreate_mask\u001b[49m\u001b[43m(\u001b[49m\u001b[43mx\u001b[49m\u001b[43m.\u001b[49m\u001b[43msize\u001b[49m\u001b[43m(\u001b[49m\u001b[32;43m0\u001b[39;49m\u001b[43m)\u001b[49m\u001b[43m)\u001b[49m.to(x.device) \u001b[38;5;66;03m# Make sure mask is on same device as input tensor\u001b[39;00m\n\u001b[32m     26\u001b[39m \t\u001b[38;5;28;01mreturn\u001b[39;00m F.softmax(\u001b[38;5;28mself\u001b[39m.W_Q(x) @ \u001b[38;5;28mself\u001b[39m.W_K(x).T + M) @ \u001b[38;5;28mself\u001b[39m.W_O(\u001b[38;5;28mself\u001b[39m.W_V(x))\n",
      "\u001b[36mCell\u001b[39m\u001b[36m \u001b[39m\u001b[32mIn[104]\u001b[39m\u001b[32m, line 3\u001b[39m, in \u001b[36mcreate_mask\u001b[39m\u001b[34m(n_context)\u001b[39m\n\u001b[32m      2\u001b[39m \u001b[38;5;28;01mdef\u001b[39;00m\u001b[38;5;250m \u001b[39m\u001b[34mcreate_mask\u001b[39m(n_context: \u001b[38;5;28mint\u001b[39m) -> torch.Tensor:\n\u001b[32m----> \u001b[39m\u001b[32m3\u001b[39m     mask = \u001b[43mtorch\u001b[49m\u001b[43m.\u001b[49m\u001b[43mzeros\u001b[49m\u001b[43m(\u001b[49m\u001b[43mn_context\u001b[49m\u001b[43m,\u001b[49m\u001b[43m \u001b[49m\u001b[43mn_context\u001b[49m\u001b[43m)\u001b[49m\n\u001b[32m      4\u001b[39m     indices = torch.triu_indices(n_context, n_context, offset=\u001b[32m1\u001b[39m)\n\u001b[32m      5\u001b[39m     mask[indices[\u001b[32m0\u001b[39m], indices[\u001b[32m1\u001b[39m]] = \u001b[38;5;28mfloat\u001b[39m(\u001b[33m'\u001b[39m\u001b[33m-inf\u001b[39m\u001b[33m'\u001b[39m) \n",
      "\u001b[31mKeyboardInterrupt\u001b[39m: "
     ]
    }
   ],
   "source": [
    "import torch.optim as optim\n",
    "\n",
    "# Move model to GPU if available\n",
    "device = torch.device(\"cuda\" if torch.cuda.is_available() else \"cpu\")\n",
    "model = Transformer(model_cfg).to(device)\n",
    "\n",
    "# Set up optimizer and loss\n",
    "optimizer = optim.AdamW(model.parameters(), lr=1e-3)\n",
    "criterion = nn.CrossEntropyLoss()\n",
    "\n",
    "# Put model into training mode to store derivatives (important to do this after it is on gpu)\n",
    "model.train()\n",
    "\n",
    "\n",
    "n_epochs = 1\n",
    "print_interval = 10\n",
    "for epoch in range(n_epochs):\n",
    "    for step, batch in enumerate(dataloader):\n",
    "        # [batch_size, seq_len]\n",
    "        input_ids_batch = batch[0].to(device)\n",
    "\n",
    "        # We'll accumulate the losses for each sequence in this mini-batch\n",
    "        total_loss = 0.0\n",
    "        batch_size = input_ids_batch.size(0)\n",
    "        \n",
    "        # Process each sequence individually\n",
    "        for i in range(batch_size):\n",
    "            # Extract a single sequence of shape [seq_len]\n",
    "            seq_ids = input_ids_batch[i]\n",
    "\n",
    "            # Next-token language modeling: input is all but last token, target is all but first\n",
    "            inp = seq_ids[:-1]   # shape [seq_len - 1]\n",
    "            targ = seq_ids[1:]    # shape [seq_len - 1]\n",
    "\n",
    "            # Forward pass\n",
    "            # Your model returns logits of shape [seq_len-1, d_vocab]\n",
    "            logits = model(inp)\n",
    "\n",
    "            # Compute loss across this sequence\n",
    "            # CrossEntropyLoss expects [batch, vocab], so we can pass [seq_len-1, d_vocab] vs. [seq_len-1]\n",
    "            loss = criterion(logits, targ)\n",
    "\n",
    "            # Accumulate\n",
    "            total_loss += loss\n",
    "\n",
    "        # Average across all sequences in the batch\n",
    "        total_loss = total_loss / batch_size\n",
    "\n",
    "        # Backprop and update\n",
    "        optimizer.zero_grad()\n",
    "        total_loss.backward()\n",
    "        optimizer.step()\n",
    "\n",
    "        # Print progress\n",
    "        if (step + 1) % print_interval == 0:\n",
    "            print(f\"Epoch {epoch+1}, Step {step+1}, Loss: {total_loss.item():.4f}\")\n"
   ]
  },
  {
   "cell_type": "code",
   "execution_count": null,
   "metadata": {},
   "outputs": [
    {
     "name": "stderr",
     "output_type": "stream",
     "text": [
      "C:\\Users\\shiff\\AppData\\Local\\Temp\\ipykernel_24276\\3943842642.py:26: UserWarning: Implicit dimension choice for softmax has been deprecated. Change the call to include dim=X as an argument.\n",
      "  return F.softmax(self.W_Q(x) @ self.W_K(x).T + M) @ self.W_O(self.W_V(x)) # Attention equation\n"
     ]
    },
    {
     "name": "stdout",
     "output_type": "stream",
     "text": [
      " and standing that they were\n",
      "\n",
      " breeds H\n",
      "\n",
      "\n",
      "\n",
      "\n",
      "\n",
      " CHAPTER XL THE LXXXIX.— Nay.—BOOK apologyonder AND verticalIXIII.— THEkin.—ThoseVI.—CHAPTER Locksley� tells too long nothing had just led with as\n",
      "\n",
      "\n",
      "\n",
      "\n",
      "\n",
      " CHAPTERIII; the oneMat.—\n",
      "\n",
      " CHAPTER CHAPTER XXIX death.—The earushima, when young WH.— Somouth OF Mostnight.\n",
      "\n",
      " CHAPTER IV wasIX\n",
      "\n",
      "     IV"
     ]
    }
   ],
   "source": [
    "\n",
    "model.to('cpu')\n",
    "model.eval()\n",
    "\n",
    "output_tokens = 100\n",
    "\n",
    "test = \"More tokens please\"\n",
    "\n",
    "for new_token in range(output_tokens):\n",
    "    test_tokens = tokenizer(test, return_tensors=\"pt\")\n",
    "\n",
    "    with torch.no_grad():\n",
    "        output = F.softmax(model(test_tokens['input_ids'][0]), dim=-1)\n",
    "\n",
    "    \n",
    "\n",
    "\n",
    "    samples = torch.multinomial(output, 1)\n",
    "\n",
    "\n",
    "   \n",
    "    detokenized_text = tokenizer.decode(samples[-1][0], skip_special_tokens=True)\n",
    "        \n",
    "    \n",
    "    print(detokenized_text,end='')\n",
    "\n",
    "    test += detokenized_text\n",
    "\n",
    "\n",
    "    \n",
    "\n",
    "\n",
    "\n",
    "\n",
    "\n",
    "\n",
    "\n",
    "\n"
   ]
  }
 ],
 "metadata": {
  "kernelspec": {
   "display_name": "myenv",
   "language": "python",
   "name": "python3"
  },
  "language_info": {
   "codemirror_mode": {
    "name": "ipython",
    "version": 3
   },
   "file_extension": ".py",
   "mimetype": "text/x-python",
   "name": "python",
   "nbconvert_exporter": "python",
   "pygments_lexer": "ipython3",
   "version": "3.12.0"
  }
 },
 "nbformat": 4,
 "nbformat_minor": 2
}
