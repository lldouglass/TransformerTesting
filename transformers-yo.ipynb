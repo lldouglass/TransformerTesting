{
 "cells": [
  {
   "cell_type": "code",
   "execution_count": 25,
   "metadata": {},
   "outputs": [],
   "source": [
    "from dataclasses import dataclass\n",
    "\n",
    "import torch\n",
    "import torch.nn as nn\n",
    "import math \n",
    "import torch.nn.functional as F\n",
    "from dataclasses import dataclass\n",
    "from jaxtyping import Float, Int\n",
    "import matplotlib.pyplot as plt\n",
    "import torch.optim as optim\n",
    "from torch.utils.data import Dataset, DataLoader\n",
    "from get_books import get_gutenberg_book, get_many_books\n",
    "from transformers import AutoTokenizer  # for tokenization\n",
    "from torch.nn import GELU  "
   ]
  },
  {
   "cell_type": "code",
   "execution_count": 26,
   "metadata": {},
   "outputs": [
    {
     "data": {
      "image/png": "[encoded data removed]",
      "text/plain": [
       "<Figure size 640x480 with 2 Axes>"
      ]
     },
     "metadata": {},
     "output_type": "display_data"
    }
   ],
   "source": [
    "# def create_mask(n_context: int) -> Float[torch.Tensor, \"n_context n_context\"]:\n",
    "def create_mask(n_context: int) -> torch.Tensor:\n",
    "    mask = torch.zeros(n_context, n_context)\n",
    "    indices = torch.triu_indices(n_context, n_context, offset=1)\n",
    "    mask[indices[0], indices[1]] = float('-inf')\n",
    "    \n",
    "    return mask\n",
    "\n",
    "\n",
    "\n",
    "# Create a random 5x5 matrix\n",
    "M = create_mask(100)\n",
    "\n",
    "# Convert to NumPy for visualization\n",
    "M_np = M.numpy()\n",
    "\n",
    "# Plot the matrix\n",
    "plt.imshow(M_np, cmap='viridis', interpolation='nearest')\n",
    "plt.colorbar(label=\"Value\")  # Add a color bar\n",
    "plt.title(\"Torch Matrix Visualization\")\n",
    "plt.show()"
   ]
  },
  {
   "cell_type": "code",
   "execution_count": 27,
   "metadata": {},
   "outputs": [],
   "source": [
    "@dataclass\n",
    "class GPTConfig:\n",
    "\td_vocab: int = 10_000\n",
    "\td_model: int = 128\n",
    "\td_mlp: int = 512\n",
    "\tn_heads: int = 4\n",
    "\td_head: int = 32\n",
    "\tn_layers: int = 6\n",
    "\tact_fn: type[nn.Module] = nn.ReLU\n",
    "\n",
    "# note: the residual stream is `n_context` by `d_model`\n",
    "\n",
    "# this is the row-wise (last dimension) softmax of x\n",
    "# F.softmax(x, dim=-1)\n",
    "\n",
    "class AttentionHead(nn.Module):\n",
    "\n",
    "\tdef __init__(self, cfg: GPTConfig):\n",
    "\t\tsuper().__init__()\n",
    "\t\tself.W_Q = nn.Linear(cfg.d_model, cfg.d_head)\n",
    "\t\tself.W_K = nn.Linear(cfg.d_model, cfg.d_head)\n",
    "\t\tself.W_O = nn.Linear(cfg.d_head, cfg.d_model) # fix this later\n",
    "\t\tself.W_V = nn.Linear(cfg.d_model, cfg.d_head)\n",
    "\t\t\n",
    "\n",
    "\t\t\n",
    "\n",
    "\tdef forward(self, x: Int[torch.Tensor, \"n_context d_model\"]) -> Float[torch.Tensor, \"n_context d_model\"]:\n",
    "\t\t#hidden = self.embedding(x)\n",
    "\t\t# n_context = x.size(0)\n",
    "\t\t# Q = x @ self.W_Q\n",
    "\t\t# K = x @ self.W_K\n",
    "\t\t# V = x @ self.W_V\n",
    "\t\t# scores = Q @ K.T\n",
    "\t\t# scores = scores / math.sqrt(Q.size(-1))\n",
    "\t\t# M = create_mask(n_context).to(x.device)\n",
    "\t\t# scores = scores + M\n",
    "\t\t# A = F.softmax(scores, dim=-1)\n",
    "\t\t# head_output = A @ V\n",
    "\t\t# return head_output @ self.W_O\n",
    "\n",
    "\t\tM = create_mask(x.size(0))\n",
    "  \n",
    "\t\treturn F.softmax(self.W_Q(x) @ self.W_K(x).T + M) @ self.W_O(self.W_V(x))\n",
    "\t\t\n",
    "\n",
    "\n",
    "class MultiHeadedAttention(nn.Module):\n",
    "\n",
    "\tdef __init__(self, cfg: GPTConfig):\n",
    "\t\tsuper().__init__()\n",
    "\t\tself.cfg = cfg\n",
    "\t\t#List of attention heads\n",
    "\t\tself.heads = nn.ModuleList([AttentionHead(cfg) for i in range(cfg.n_heads)])\n",
    "\n",
    "\t#def forward(x: Int[torch.Tensor, \"n_context d_model\"]) -> Float[torch.Tensor, \"n_context d_model\"]:\n",
    "\tdef forward(self, x: Int[torch.Tensor, \"n_context d_model\"]) -> Float[torch.Tensor, \"n_context d_model\"]:\n",
    "\t\t\n",
    "\t\tfor head in range(self.cfg.n_heads):\n",
    "\t\t\tx = x + self.heads[head].forward(x)\n",
    "\t\t\n",
    "\t\treturn x\n",
    "        #Each head returns output of shape [n_context, d_head]\n",
    "        #Concatenate outputs along the feature dimension: [n_context, n_heads * d_head]\n",
    "        #Project concatenated outputs back to d_model: [n_context, d_model]\n",
    "\n",
    "\n",
    "\n",
    "\n",
    "class MLP(nn.Module):\n",
    "\n",
    "\tdef __init__(self, cfg: GPTConfig):\n",
    "\t\tsuper().__init__()\n",
    "\t\tself.cfg = cfg\n",
    "\t\tself.Hidden = nn.Linear(cfg.d_model, cfg.d_mlp)\n",
    "\t\tself.Output = nn.Linear(cfg.d_mlp, cfg.d_model)\n",
    "\t\t\n",
    "\tdef forward(self, x: torch.Tensor) -> torch.Tensor:\n",
    "\t\treturn self.Output(self.Hidden(x))\n",
    "\n",
    "\n",
    "\n",
    "class Transformer(nn.Module):\n",
    "\n",
    "\tdef __init__(self, cfg: GPTConfig):\n",
    "\t\tsuper().__init__()\n",
    "\t\tself.cfg = cfg\n",
    "  \n",
    "\t\tself.embedding = nn.Embedding(cfg.d_vocab, cfg.d_model)\n",
    "\t\tself.unembedding = nn.Linear(cfg.d_model, cfg.d_vocab)\t\n",
    "\n",
    "\t\tself.layers = nn.ModuleList(\n",
    "\t\t\tnn.ModuleDict({\n",
    "\t\t\t\t'attn': MultiHeadedAttention(cfg),\n",
    "\t\t\t\t'mlp': MLP(cfg)\n",
    "\t\t\t}) for _ in range(cfg.n_layers)\n",
    "\t\t)\n",
    "  \t\t\n",
    "\t\t\n",
    "\t\t# uses `MultiHeadedAttention` and `MLP`\n",
    "\t\t# uses nn.Embedding for the embedding, transpose of it for the unembedding\n",
    "\n",
    "\tdef forward(self, x: Int[torch.Tensor, \"n_context d_vocab\"]) -> Float[torch.Tensor, \"n_context d_vocab\"]:\n",
    "     \n",
    "\t\t# x is a sequence of token ids, shape (n_context, d_vocab)\n",
    "\t\t# we need to embed it, then pass it through the transformer layers\n",
    "\t\t# then we need to unembed it\n",
    "\t\t# the output of the transformer layers is a sequence of vectors, shape (n_context, d_model)\n",
    "\t\t# the unembedding layer is a linear layer that maps from d_model to d_vocab\n",
    "\t\t# the output of the unembedding layer is a sequence of logits, shape (n_context, d_vocab)\n",
    "\t\t# the logits are the output of the model, we return them\n",
    "  \n",
    "\t\tx = self.embedding(x) # shape (n_context, d_model)\n",
    "\t\t\n",
    "\t\tfor layer in self.layers:\n",
    "\t\t\tattn_out = layer['attn'](x)\n",
    "\t\t\tx = x + attn_out\n",
    "\t\t\tmlp_out = layer['mlp'](x)\n",
    "\t\t\tx = x + mlp_out\n",
    "\t\t#return F.softmax(self.unembedding(x))\n",
    "\t\treturn self.unembedding(x)"
   ]
  },
  {
   "cell_type": "code",
   "execution_count": 28,
   "metadata": {},
   "outputs": [],
   "source": [
    "cfg = GPTConfig()\n",
    "#model = Transformer(cfg)\n",
    "n_context = 10\n",
    "x = torch.randint(0, cfg.d_vocab, (n_context,))"
   ]
  },
  {
   "cell_type": "code",
   "execution_count": 29,
   "metadata": {},
   "outputs": [
    {
     "name": "stdout",
     "output_type": "stream",
     "text": [
      "torch.Size([10])\n",
      "torch.Size([10, 10000])\n"
     ]
    },
    {
     "name": "stderr",
     "output_type": "stream",
     "text": [
      "C:\\Users\\shiff\\AppData\\Local\\Temp\\ipykernel_32764\\2586295814.py:44: UserWarning: Implicit dimension choice for softmax has been deprecated. Change the call to include dim=X as an argument.\n",
      "  return F.softmax(self.W_Q(x) @ self.W_K(x).T + M) @ self.W_O(self.W_V(x))\n"
     ]
    },
    {
     "data": {
      "image/png": "[encoded data removed]",
      "text/plain": [
       "<Figure size 640x480 with 2 Axes>"
      ]
     },
     "metadata": {},
     "output_type": "display_data"
    }
   ],
   "source": [
    "transform = Transformer(cfg)\n",
    "print(x.shape)\n",
    "output = transform(x)\n",
    "print(output.shape)\n",
    "# print(attn(x))\n",
    "# print(mh_attn(x))\n",
    "\n",
    "# visualize the attention scores\n",
    "plt.imshow(output.detach().numpy()[:, :100], cmap='viridis', interpolation='nearest')\n",
    "plt.colorbar(label=\"Value\")  # Add a color bar\n",
    "plt.title(\"Attention Output Visualization\")\n",
    "plt.xlabel(\"Context\")\n",
    "plt.ylabel(\"Context\")\n",
    "plt.show()\n",
    "# visualize the attention scores"
   ]
  },
  {
   "cell_type": "code",
   "execution_count": 30,
   "metadata": {},
   "outputs": [
    {
     "name": "stdout",
     "output_type": "stream",
     "text": [
      "torch.Size([10, 128])\n",
      "torch.Size([10, 128])\n"
     ]
    },
    {
     "name": "stderr",
     "output_type": "stream",
     "text": [
      "C:\\Users\\shiff\\AppData\\Local\\Temp\\ipykernel_32764\\2586295814.py:44: UserWarning: Implicit dimension choice for softmax has been deprecated. Change the call to include dim=X as an argument.\n",
      "  return F.softmax(self.W_Q(x) @ self.W_K(x).T + M) @ self.W_O(self.W_V(x))\n"
     ]
    },
    {
     "data": {
      "image/png": "[encoded data removed]",
      "text/plain": [
       "<Figure size 640x480 with 2 Axes>"
      ]
     },
     "metadata": {},
     "output_type": "display_data"
    }
   ],
   "source": [
    "cfg = GPTConfig()\n",
    "\n",
    "ah = AttentionHead(cfg)\n",
    "x = torch.randn(10, cfg.d_model)\n",
    "print(ah(x).shape)\n",
    "\n",
    "output = ah.forward(x)\n",
    "print(output.shape)\n",
    "\n",
    "\n",
    "# visualize the attention scores\n",
    "plt.imshow(output.detach().numpy(), cmap='viridis', interpolation='nearest')\n",
    "plt.colorbar(label=\"Value\")  # Add a color bar\n",
    "plt.title(\"Attention Output Visualization\")\n",
    "plt.xlabel(\"Context\")\n",
    "plt.ylabel(\"Context\")\n",
    "plt.show()\n",
    "# visualize the attention scores\n"
   ]
  },
  {
   "cell_type": "code",
   "execution_count": 31,
   "metadata": {},
   "outputs": [
    {
     "name": "stdout",
     "output_type": "stream",
     "text": [
      "Getting book 84...\n",
      "\t426785 characters read\n",
      "Getting book 84...\n",
      "\t359291 characters read\n"
     ]
    },
    {
     "name": "stderr",
     "output_type": "stream",
     "text": [
      "Token indices sequence length is longer than the specified maximum sequence length for this model (202757 > 1024). Running this sequence through the model will result in indexing errors\n"
     ]
    },
    {
     "name": "stdout",
     "output_type": "stream",
     "text": [
      "torch.Size([2027, 100])\n",
      "<torch.utils.data.dataloader.DataLoader object at 0x00000272A951BD40>\n"
     ]
    }
   ],
   "source": [
    "from get_books import get_many_books\n",
    "from transformers import AutoTokenizer\n",
    "from torch.utils.data import DataLoader, TensorDataset\n",
    "\n",
    "tokenizer = AutoTokenizer.from_pretrained(\"gpt2\")  # Initialize tokenizer once\n",
    "model_cfg = GPTConfig(d_model=128, d_vocab=tokenizer.vocab_size, n_heads=4, n_layers=6, d_mlp=512)\n",
    "\n",
    "book_ids = [84, 85]  \n",
    "dataset = get_many_books(book_ids, data_temp=\"./data/gutenberg_data\")\n",
    "\n",
    "rawtext = \"\"\n",
    "for book in dataset:\n",
    "    rawtext += book\n",
    "tokens = tokenizer(rawtext, return_tensors=\"pt\")\n",
    "\n",
    "chunk_size = 100\n",
    "to_remove = tokens[\"input_ids\"].shape[1] % chunk_size\n",
    "new_shape = tokens[\"input_ids\"].shape[1] // chunk_size\n",
    "\n",
    "attention_mask = tokens['attention_mask'][0][:-to_remove].reshape(new_shape, chunk_size)\n",
    "input_ids = tokens['input_ids'][0][:-to_remove].reshape(new_shape, chunk_size)\n",
    "\n",
    "tensor = TensorDataset(input_ids, attention_mask)\n",
    "\n",
    "dataloader = DataLoader(tensor, batch_size=8, shuffle=True)\n",
    "\n",
    "batch_size = 8\n",
    "lr = 1e-3\n",
    "weight_decay = 1e-2\n",
    "print(input_ids.shape)\n",
    "print(dataloader)"
   ]
  },
  {
   "cell_type": "code",
   "execution_count": 33,
   "metadata": {},
   "outputs": [
    {
     "name": "stderr",
     "output_type": "stream",
     "text": [
      "C:\\Users\\shiff\\AppData\\Local\\Temp\\ipykernel_32764\\2586295814.py:44: UserWarning: Implicit dimension choice for softmax has been deprecated. Change the call to include dim=X as an argument.\n",
      "  return F.softmax(self.W_Q(x) @ self.W_K(x).T + M) @ self.W_O(self.W_V(x))\n"
     ]
    },
    {
     "name": "stdout",
     "output_type": "stream",
     "text": [
      "Epoch 1, Step 10, Loss: 280.2469\n",
      "Epoch 1, Step 20, Loss: 264.8748\n",
      "Epoch 1, Step 30, Loss: 254.2630\n",
      "Epoch 1, Step 40, Loss: 247.3682\n",
      "Epoch 1, Step 50, Loss: 231.9601\n",
      "Epoch 1, Step 60, Loss: 216.5523\n",
      "Epoch 1, Step 70, Loss: 220.3618\n",
      "Epoch 1, Step 80, Loss: 206.9910\n",
      "Epoch 1, Step 90, Loss: 199.8028\n",
      "Epoch 1, Step 100, Loss: 200.3732\n",
      "Epoch 1, Step 110, Loss: 190.9388\n",
      "Epoch 1, Step 120, Loss: 187.3538\n",
      "Epoch 1, Step 130, Loss: 182.2037\n",
      "Epoch 1, Step 140, Loss: 169.3903\n",
      "Epoch 1, Step 150, Loss: 166.9250\n",
      "Epoch 1, Step 160, Loss: 163.1392\n",
      "Epoch 1, Step 170, Loss: 154.9378\n",
      "Epoch 1, Step 180, Loss: 154.5177\n",
      "Epoch 1, Step 190, Loss: 146.9574\n",
      "Epoch 1, Step 200, Loss: 146.1566\n",
      "Epoch 1, Step 210, Loss: 143.0737\n",
      "Epoch 1, Step 220, Loss: 139.9795\n",
      "Epoch 1, Step 230, Loss: 135.0993\n",
      "Epoch 1, Step 240, Loss: 127.8704\n",
      "Epoch 1, Step 250, Loss: 129.7476\n",
      "Epoch 2, Step 10, Loss: 122.1326\n",
      "Epoch 2, Step 20, Loss: 117.6041\n",
      "Epoch 2, Step 30, Loss: 112.2810\n",
      "Epoch 2, Step 40, Loss: 109.9186\n",
      "Epoch 2, Step 50, Loss: 105.7045\n",
      "Epoch 2, Step 60, Loss: 102.6539\n",
      "Epoch 2, Step 70, Loss: 99.5580\n",
      "Epoch 2, Step 80, Loss: 99.0211\n",
      "Epoch 2, Step 90, Loss: 100.0817\n",
      "Epoch 2, Step 100, Loss: 93.0792\n",
      "Epoch 2, Step 110, Loss: 91.3468\n",
      "Epoch 2, Step 120, Loss: 87.1358\n",
      "Epoch 2, Step 130, Loss: 83.9712\n",
      "Epoch 2, Step 140, Loss: 83.5646\n",
      "Epoch 2, Step 150, Loss: 82.7192\n",
      "Epoch 2, Step 160, Loss: 78.9332\n",
      "Epoch 2, Step 170, Loss: 77.6735\n",
      "Epoch 2, Step 180, Loss: 72.6203\n",
      "Epoch 2, Step 190, Loss: 73.7533\n",
      "Epoch 2, Step 200, Loss: 71.1073\n",
      "Epoch 2, Step 210, Loss: 69.9994\n",
      "Epoch 2, Step 220, Loss: 70.9678\n",
      "Epoch 2, Step 230, Loss: 67.8286\n",
      "Epoch 2, Step 240, Loss: 66.9571\n",
      "Epoch 2, Step 250, Loss: 65.3394\n"
     ]
    }
   ],
   "source": [
    "import torch\n",
    "import torch.nn as nn\n",
    "import torch.optim as optim\n",
    "\n",
    "# Move model to GPU if available\n",
    "device = torch.device(\"cpu\")\n",
    "model = Transformer(model_cfg)\n",
    "model = model.to(device)\n",
    "\n",
    "# Set up optimizer and loss\n",
    "optimizer = optim.AdamW(model.parameters(), lr=1e-4)\n",
    "criterion = nn.CrossEntropyLoss()\n",
    "\n",
    "model.train()\n",
    "n_epochs = 2\n",
    "print_interval = 10\n",
    "\n",
    "for epoch in range(n_epochs):\n",
    "    for step, batch in enumerate(dataloader):\n",
    "        # [batch_size, seq_len]\n",
    "        input_ids_batch = batch[0].to(device)\n",
    "\n",
    "        # We'll accumulate the losses for each sequence in this mini-batch\n",
    "        total_loss = 0.0\n",
    "        batch_size = input_ids_batch.size(0)\n",
    "\n",
    "        # Process each sequence individually\n",
    "        for i in range(batch_size):\n",
    "            # Extract a single sequence of shape [seq_len]\n",
    "            seq_ids = input_ids_batch[i]\n",
    "\n",
    "            # Next-token language modeling: input is all but last token, target is all but first\n",
    "            inp = seq_ids[:-1]    # shape [seq_len - 1]\n",
    "            targ = seq_ids[1:]    # shape [seq_len - 1]\n",
    "\n",
    "            # Forward pass\n",
    "            # Your model returns logits of shape [seq_len-1, d_vocab]\n",
    "            logits = model(inp)\n",
    "\n",
    "            # Compute loss across this sequence\n",
    "            # CrossEntropyLoss expects [batch, vocab], so we can pass [seq_len-1, d_vocab] vs. [seq_len-1]\n",
    "            loss = criterion(logits, targ)\n",
    "\n",
    "            # Accumulate\n",
    "            total_loss += loss\n",
    "\n",
    "        # Average across all sequences in the batch\n",
    "        total_loss = total_loss / batch_size\n",
    "\n",
    "        # Backprop and update\n",
    "        optimizer.zero_grad()\n",
    "        total_loss.backward()\n",
    "        optimizer.step()\n",
    "\n",
    "        # Print progress\n",
    "        if (step + 1) % print_interval == 0:\n",
    "            print(f\"Epoch {epoch+1}, Step {step+1}, Loss: {total_loss.item():.4f}\")\n"
   ]
  },
  {
   "cell_type": "code",
   "execution_count": null,
   "metadata": {},
   "outputs": [],
   "source": []
  }
 ],
 "metadata": {
  "kernelspec": {
   "display_name": "myenv",
   "language": "python",
   "name": "python3"
  },
  "language_info": {
   "codemirror_mode": {
    "name": "ipython",
    "version": 3
   },
   "file_extension": ".py",
   "mimetype": "text/x-python",
   "name": "python",
   "nbconvert_exporter": "python",
   "pygments_lexer": "ipython3",
   "version": "3.12.0"
  }
 },
 "nbformat": 4,
 "nbformat_minor": 2
}
